{
 "cells": [
  {
   "cell_type": "code",
   "execution_count": 1,
   "metadata": {
    "collapsed": false
   },
   "outputs": [],
   "source": [
    "import PipelineERVs as PE\n",
    "reload(PE)\n",
    "import pandas as pd"
   ]
  },
  {
   "cell_type": "code",
   "execution_count": 4,
   "metadata": {
    "collapsed": false
   },
   "outputs": [],
   "source": [
    "tab = pd.read_csv(\"/ifs/projects/katherineb/ERVS_test/envs2_results.tsv\", sep=\"\\t\", index_col=0)\n",
    "tab['target_start'] = tab['target_start'].astype(int)\n",
    "tab['target_end'] = tab['target_end'].astype(int)\n",
    "D = dict()\n",
    "with open(\"/ifs/projects/katherineb/ERVS_test/envs_merged.bed\") as infile:\n",
    "    for line in infile:\n",
    "        line = line.strip().split(\"\\t\")\n",
    "        if line[0] not in D:\n",
    "            D[line[0]] = []\n",
    "        D[line[0]].append((int(line[1]), int(line[2])))\n",
    "cnames = tab.columns.tolist()\n",
    "cnames.append('final_target_start')\n",
    "cnames.append('final_target_end')\n",
    "cnames.append('final_length')\n",
    "\n",
    "results = pd.DataFrame(columns=cnames)\n",
    "for chromosome in D:\n",
    "    subtab = tab[(tab['target_id'] == chromosome)]\n",
    "    for pos_pair in D[chromosome]:\n",
    "        overlappers = subtab[((subtab['target_start'] >= pos_pair[0]) &\n",
    "                              (subtab['target_end'] <= pos_pair[1]))]\n",
    "        scores = overlappers['score'].astype(int)\n",
    "        best = scores[scores == max(scores)]\n",
    "        result = overlappers.ix[best.index]\n",
    "        result['final_target_start'] = pos_pair[0]\n",
    "        result['final_target_end'] = pos_pair[1]\n",
    "        result['final_length'] = pos_pair[1] - pos_pair[0]\n",
    "        results = results.append(result)\n",
    "results = results[cnames]"
   ]
  },
  {
   "cell_type": "code",
   "execution_count": 8,
   "metadata": {
    "collapsed": false
   },
   "outputs": [
    {
     "data": {
      "text/plain": [
       "array([['Baboon_ERV_D10032_beta_env', 444.0, 543.0, '.', 'chr21',\n",
       "        17765117.0, 17765417.0, '-', 187.0,\n",
       "        'M|49|147|G|0|6|M|5|15|G|1|0|M|44|132', 300.0, 17765102.0,\n",
       "        17765417.0, 315.0],\n",
       "       ['Baboon_ERV_D10032_beta_env', 307.0, 537.0, '.', 'chr21',\n",
       "        18677078.0, 18677760.0, '+', 381.0,\n",
       "        'M|28|84|F|0|4|M|34|102|G|2|0|M|123|369|G|2|0|M|41|123', 682.0,\n",
       "        18677078.0, 18677760.0, 682.0],\n",
       "       ['Mouse_mammary_tumour_virus_NC_001503_beta_env', 395.0, 521.0, '.',\n",
       "        'chr21', 19934375.0, 19934759.0, '-', 134.0,\n",
       "        'M|15|45|G|0|3|M|31|93|G|0|3|M|80|240', 384.0, 19934375.0,\n",
       "        19934759.0, 384.0],\n",
       "       ['Baboon_ERV_D10032_beta_env', 437.0, 550.0, '.', 'chr21',\n",
       "        28233036.0, 28233373.0, '+', 232.0,\n",
       "        'M|51|153|F|0|1|M|34|102|G|1|0|M|27|81', 337.0, 28233036.0,\n",
       "        28233373.0, 337.0],\n",
       "       ['Simian_ERV_JN134185_beta_env', 375.0, 535.0, '.', 'chr21',\n",
       "        30728044.0, 30728519.0, '-', 313.0,\n",
       "        'M|120|360|G|2|0|M|3|9|F|0|1|M|35|105', 475.0, 30728035.0,\n",
       "        30728519.0, 484.0],\n",
       "       ['Baboon_ERV_D10032_beta_env', 422.0, 540.0, '.', 'chr21',\n",
       "        42552496.0, 42552863.0, '-', 119.0,\n",
       "        'M|34|102|F|0|1|M|28|84|G|0|6|M|25|75|G|0|9|M|13|39|G|1|0|M|17|51',\n",
       "        367.0, 42552484.0, 42552863.0, 379.0],\n",
       "       ['Squirrel_monkey_retrovirus_NC_001514_beta_env', 393.0, 484.0, '.',\n",
       "        'chr14', 23204451.0, 23204730.0, '+', 120.0,\n",
       "        'M|35|105|G|0|6|M|56|168', 279.0, 23204451.0, 23204730.0, 279.0],\n",
       "       ['Baboon_ERV_D10032_beta_env', 445.0, 543.0, '.', 'chr14',\n",
       "        25895393.0, 25895690.0, '-', 140.0,\n",
       "        'M|42|126|G|0|6|M|12|36|G|1|0|M|43|129', 297.0, 25895393.0,\n",
       "        25895690.0, 297.0],\n",
       "       ['Simian_ERV_JN134185_beta_env', 319.0, 413.0, '.', 'chr14',\n",
       "        25930067.0, 25930343.0, '-', 179.0, 'M|53|159|G|2|0|M|39|117',\n",
       "        276.0, 25930067.0, 25930343.0, 276.0],\n",
       "       ['RD114_Retrovirus_NC_009889_gamma_env', 417.0, 540.0, '.', 'chr14',\n",
       "        25930484.0, 25930848.0, '+', 208.0,\n",
       "        'M|57|171|F|0|1|M|2|6|G|1|0|M|25|75|G|1|0|M|37|111', 364.0,\n",
       "        25930484.0, 25930881.0, 397.0],\n",
       "       ['Baboon_ERV_D10032_beta_env', 463.0, 543.0, '.', 'chr14',\n",
       "        26728928.0, 26729165.0, '+', 176.0, 'M|16|48|G|1|0|M|63|189',\n",
       "        237.0, 26728928.0, 26729180.0, 252.0],\n",
       "       ['Reticuloendotheliosis_Virus_NC_006934_gamma_env', 441.0, 563.0,\n",
       "        '.', 'chr14', 31716278.0, 31716647.0, '-', 279.0,\n",
       "        'M|62|186|G|0|6|M|15|45|G|1|0|M|44|132', 369.0, 31716263.0,\n",
       "        31716647.0, 384.0],\n",
       "       ['Baboon_ERV_D10032_beta_env', 409.0, 543.0, '.', 'chr14',\n",
       "        32175587.0, 32175983.0, '-', 293.0, 'M|86|258|G|2|0|M|46|138',\n",
       "        396.0, 32175581.0, 32175989.0, 408.0],\n",
       "       ['Baboon_ERV_D10032_beta_env', 348.0, 555.0, '.', 'chr14',\n",
       "        32710737.0, 32711361.0, '-', 276.0,\n",
       "        'M|24|72|G|0|3|M|69|207|F|0|1|M|40|120|F|0|2|M|14|42|G|2|0|M|47|141|G|0|3|M|11|33',\n",
       "        624.0, 32710737.0, 32711367.0, 630.0],\n",
       "       ['Baboon_ERV_D10032_beta_env', 386.0, 476.0, '.', 'chr14',\n",
       "        32739020.0, 32739290.0, '+', 228.0, 'M|90|270', 270.0, 32739020.0,\n",
       "        32739311.0, 291.0],\n",
       "       ['Squirrel_monkey_retrovirus_NC_001514_beta_env', 326.0, 468.0, '.',\n",
       "        'chr14', 35122869.0, 35123295.0, '+', 270.0,\n",
       "        'M|14|42|G|1|0|M|36|108|G|1|0|M|4|12|G|1|0|M|18|54|G|0|9|M|67|201',\n",
       "        426.0, 35122869.0, 35123295.0, 426.0],\n",
       "       ['Baboon_ERV_D10032_beta_env', 378.0, 543.0, '.', 'chr14',\n",
       "        38575779.0, 38576273.0, '+', 245.0,\n",
       "        'M|82|246|F|0|2|M|1|3|G|1|0|M|81|243', 494.0, 38575779.0,\n",
       "        38576330.0, 551.0],\n",
       "       ['Reticuloendotheliosis_Virus_NC_006934_gamma_env', 403.0, 473.0,\n",
       "        '.', 'chr14', 40202130.0, 40202340.0, '-', 105.0, 'M|70|210',\n",
       "        210.0, 40202130.0, 40202340.0, 210.0],\n",
       "       ['Baboon_ERV_D10032_beta_env', 422.0, 551.0, '.', 'chr14',\n",
       "        41738770.0, 41739171.0, '+', 148.0,\n",
       "        'M|62|186|G|0|9|M|27|81|F|0|5|M|40|120', 401.0, 41738770.0,\n",
       "        41739171.0, 401.0],\n",
       "       ['Squirrel_monkey_retrovirus_NC_001514_beta_env', 389.0, 502.0, '.',\n",
       "        'chr14', 44007292.0, 44007631.0, '+', 252.0, 'M|113|339', 339.0,\n",
       "        44007292.0, 44007718.0, 426.0],\n",
       "       ['Baboon_ERV_D10032_beta_env', 304.0, 485.0, '.', 'chr14',\n",
       "        44085214.0, 44085758.0, '+', 137.0,\n",
       "        'M|63|189|G|2|0|M|12|36|F|0|1|M|38|114|G|0|6|M|66|198', 544.0,\n",
       "        44085214.0, 44085764.0, 550.0],\n",
       "       ['Reticuloendotheliosis_Virus_NC_006934_gamma_env', 336.0, 565.0,\n",
       "        '.', 'chr14', 45489246.0, 45489918.0, '-', 384.0,\n",
       "        'M|14|42|G|1|0|M|29|87|G|3|0|M|13|39|G|1|0|M|168|504', 672.0,\n",
       "        45489231.0, 45490431.0, 1200.0],\n",
       "       ['Baboon_ERV_D10032_beta_env', 457.0, 543.0, '.', 'chr14',\n",
       "        53601342.0, 53601598.0, '+', 120.0,\n",
       "        'M|31|93|F|0|1|M|10|30|G|1|0|M|44|132', 256.0, 53601342.0,\n",
       "        53601598.0, 256.0],\n",
       "       ['Baboon_ERV_D10032_beta_env', 391.0, 468.0, '.', 'chr14',\n",
       "        53741050.0, 53741281.0, '-', 110.0, 'M|77|231', 231.0, 53741050.0,\n",
       "        53741281.0, 231.0],\n",
       "       ['Baboon_ERV_D10032_beta_env', 455.0, 543.0, '.', 'chr14',\n",
       "        60564290.0, 60564548.0, '+', 142.0,\n",
       "        'M|41|123|G|1|0|M|5|15|G|1|0|M|40|120', 258.0, 60564290.0,\n",
       "        60564572.0, 282.0],\n",
       "       ['Baboon_ERV_D10032_beta_env', 303.0, 487.0, '.', 'chr14',\n",
       "        70761012.0, 70761564.0, '-', 315.0,\n",
       "        'M|24|72|G|1|0|M|42|126|G|0|3|M|117|351', 552.0, 70761012.0,\n",
       "        70761564.0, 552.0],\n",
       "       ['RD114_Retrovirus_NC_009889_gamma_env', 457.0, 545.0, '.', 'chr14',\n",
       "        71010163.0, 71010427.0, '+', 129.0, 'M|88|264', 264.0, 71010163.0,\n",
       "        71010451.0, 288.0],\n",
       "       ['Mouse_mammary_tumour_virus_NC_001503_beta_env', 450.0, 621.0, '.',\n",
       "        'chr14', 91418767.0, 91419277.0, '+', 239.0,\n",
       "        'M|111|333|G|0|3|M|10|30|G|2|0|M|48|144', 510.0, 91418701.0,\n",
       "        91419277.0, 576.0],\n",
       "       ['Baboon_ERV_D10032_beta_env', 415.0, 543.0, '.', 'chr14',\n",
       "        92133915.0, 92134293.0, '+', 284.0, 'M|80|240|G|2|0|M|46|138',\n",
       "        378.0, 92133915.0, 92134299.0, 384.0],\n",
       "       ['Squirrel_monkey_retrovirus_NC_001514_beta_env', 326.0, 468.0, '.',\n",
       "        'chr14', 92509333.0, 92509759.0, '-', 234.0,\n",
       "        'M|14|42|G|1|0|M|36|108|G|2|0|M|22|66|G|0|9|M|67|201', 426.0,\n",
       "        92509333.0, 92509759.0, 426.0],\n",
       "       ['Baboon_ERV_D10032_beta_env', 316.0, 543.0, '.', 'chr14',\n",
       "        94026429.0, 94027114.0, '-', 340.0,\n",
       "        'M|14|42|G|1|0|M|37|111|G|0|3|M|67|201|F|0|1|M|58|174|G|0|6|M|5|15|G|1|0|M|44|132',\n",
       "        685.0, 94026411.0, 94027117.0, 706.0],\n",
       "       ['Simian_ERV_JN134185_beta_env', 311.0, 522.0, '.', 'chr14',\n",
       "        96579419.0, 96580049.0, '-', 230.0,\n",
       "        'M|61|183|G|0|3|M|44|132|G|1|0|M|39|117|G|2|0|M|28|84|G|0|3|M|36|108',\n",
       "        630.0, 96579325.0, 96580049.0, 724.0],\n",
       "       ['Reticuloendotheliosis_Virus_NC_006934_gamma_env', 335.0, 563.0,\n",
       "        '.', 'chr14', 99457871.0, 99458558.0, '+', 407.0,\n",
       "        'M|15|45|G|1|0|M|36|108|G|2|0|M|25|75|G|0|9|M|89|267|G|0|6|M|15|45|G|1|0|M|44|132',\n",
       "        687.0, 99457835.0, 99458585.0, 750.0],\n",
       "       ['Baboon_ERV_D10032_beta_env', 320.0, 556.0, '.', 'chr14',\n",
       "        102713662.0, 102714380.0, '+', 427.0,\n",
       "        'M|10|30|G|1|0|M|11|33|F|0|4|M|28|84|G|2|0|M|127|381|G|0|6|M|41|123|G|0|9|M|16|48',\n",
       "        718.0, 102713608.0, 102714389.0, 781.0],\n",
       "       ['RD114_Retrovirus_NC_009889_gamma_env', 322.0, 561.0, '.', 'chr14',\n",
       "        102713662.0, 102714389.0, '+', 427.0,\n",
       "        'M|10|30|G|1|0|M|11|33|F|0|4|M|30|90|G|2|0|M|125|375|G|0|6|M|41|123|G|0|9|M|19|57',\n",
       "        727.0, 102713608.0, 102714389.0, 781.0],\n",
       "       ['RD114_Retrovirus_NC_009889_gamma_env', 344.0, 563.0, '.', 'chr14',\n",
       "        106654344.0, 106655019.0, '-', 308.0,\n",
       "        'M|37|111|G|0|3|M|119|357|G|0|3|M|14|42|G|0|12|M|49|147', 675.0,\n",
       "        106654329.0, 106655019.0, 690.0]], dtype=object)"
      ]
     },
     "execution_count": 8,
     "metadata": {},
     "output_type": "execute_result"
    }
   ],
   "source": [
    "results.values"
   ]
  },
  {
   "cell_type": "code",
   "execution_count": null,
   "metadata": {
    "collapsed": false
   },
   "outputs": [],
   "source": []
  },
  {
   "cell_type": "code",
   "execution_count": null,
   "metadata": {
    "collapsed": false
   },
   "outputs": [],
   "source": [
    "results"
   ]
  },
  {
   "cell_type": "code",
   "execution_count": null,
   "metadata": {
    "collapsed": false
   },
   "outputs": [],
   "source": [
    "cnames = [\"query_id\", \"query_start\", \"query_end\", \"query_strand\", \"target_id\", \"target_start\", \"target_end\",\n",
    "          \"target_strand\", \"score\", \"details\"]\n",
    "df = pd.DataFrame(columns=cnames)\n"
   ]
  },
  {
   "cell_type": "code",
   "execution_count": null,
   "metadata": {
    "collapsed": false
   },
   "outputs": [],
   "source": [
    "with open(\"/ifs/projects/katherineb/ERVS_test/raw_exonerate_output/envs_chr21.tsv\") as infile:\n",
    "    for line in infile:\n",
    "        line = line.split(\": \")\n",
    "        if line[0] == \"vulgar\":\n",
    "            segs = line[1].split(\" \")\n",
    "            for i in range(9):\n",
    "                df.ix[segs[0], cnames[i]] = segs[i]\n",
    "            rest = \"|\".join(line[9:])\n",
    "            df.ix[segs[0], cnames[9]] = rest"
   ]
  },
  {
   "cell_type": "code",
   "execution_count": null,
   "metadata": {
    "collapsed": false
   },
   "outputs": [],
   "source": [
    "    with open(infile) as infile:\n",
    "        for line in infile:\n",
    "            line = line.strip().split(\":\")\n"
   ]
  },
  {
   "cell_type": "code",
   "execution_count": null,
   "metadata": {
    "collapsed": false
   },
   "outputs": [],
   "source": [
    "df['target_start'] = df['target_start'].astype(int)"
   ]
  },
  {
   "cell_type": "code",
   "execution_count": null,
   "metadata": {
    "collapsed": false
   },
   "outputs": [],
   "source": [
    "df['target_end'] = df['target_end'].astype(int)"
   ]
  },
  {
   "cell_type": "code",
   "execution_count": null,
   "metadata": {
    "collapsed": false
   },
   "outputs": [],
   "source": [
    "    outs = ['/ifs/projects/katherineb/ERVS_test/raw_exonerate_output/envs2_chr14.tsv', '/ifs/projects/katherineb/ERVS_test/raw_exonerate_output/envs2_chr21.tsv']\n",
    "    cnames = [\"query_id\", \"query_start\", \"query_end\", \"query_strand\",\n",
    "              \"target_id\", \"target_start\", \"target_end\",\n",
    "              \"target_strand\", \"score\", \"details\"]\n",
    "    j = 0\n",
    "    bigdf = pd.DataFrame(columns=cnames)\n",
    "    \n",
    "    for out in outs:\n",
    "        smalldf = pd.DataFrame(columns=cnames)\n",
    "        with open(out) as infile:\n",
    "            for line in infile:\n",
    "                line = line.split(\": \")\n",
    "                if line[0] == \"vulgar\":\n",
    "                    segs = line[1].split(\" \")\n",
    "                    for i in range(9):\n",
    "                        smalldf.ix[str(j), cnames[i]] = segs[i]\n",
    "                    rest = \"|\".join(segs[9:])\n",
    "                    smalldf.ix[str(j), cnames[9]] = rest\n",
    "                    j += 1\n",
    "        smalldf = smalldf.sort(['target_start'])\n",
    "        bigdf = bigdf.append(smalldf)\n",
    "\n",
    "\n"
   ]
  },
  {
   "cell_type": "code",
   "execution_count": null,
   "metadata": {
    "collapsed": false
   },
   "outputs": [],
   "source": [
    "bigdf['target_start'] = bigdf['target_start'].astype(int)\n",
    "bigdf['target_end'] = bigdf['target_end'].astype(int)"
   ]
  },
  {
   "cell_type": "code",
   "execution_count": null,
   "metadata": {
    "collapsed": false
   },
   "outputs": [],
   "source": [
    "bigdf['Length'] = abs(bigdf['target_end'] - bigdf['target_start'])"
   ]
  },
  {
   "cell_type": "code",
   "execution_count": null,
   "metadata": {
    "collapsed": false
   },
   "outputs": [],
   "source": [
    "bigdf  = bigdf[bigdf['details'].str.contains(\"I\") == False]"
   ]
  },
  {
   "cell_type": "code",
   "execution_count": null,
   "metadata": {
    "collapsed": false
   },
   "outputs": [],
   "source": [
    "bigdf[bigdf['Length'] > 200]"
   ]
  },
  {
   "cell_type": "code",
   "execution_count": null,
   "metadata": {
    "collapsed": false
   },
   "outputs": [],
   "source": [
    "r1 = bigdf.ix['33']"
   ]
  },
  {
   "cell_type": "code",
   "execution_count": null,
   "metadata": {
    "collapsed": false
   },
   "outputs": [],
   "source": [
    "r2 = bigdf.ix['65']"
   ]
  },
  {
   "cell_type": "code",
   "execution_count": null,
   "metadata": {
    "collapsed": false
   },
   "outputs": [],
   "source": [
    "def isOverlapping(region1, region2):\n",
    "    r1 = (min(region1['target_start'], region1['target_end']),\n",
    "               max(region1['target_start'], region1['target_end']))\n",
    "    r2 = (min(region2['target_start'], region2['target_end']),\n",
    "               max(region2['target_start'], region2['target_end']))\n",
    "    case1 = r1[0] < r2[0]\n",
    "    "
   ]
  },
  {
   "cell_type": "code",
   "execution_count": null,
   "metadata": {
    "collapsed": false
   },
   "outputs": [],
   "source": [
    "isOverlapping(r1, r2)"
   ]
  },
  {
   "cell_type": "code",
   "execution_count": null,
   "metadata": {
    "collapsed": false
   },
   "outputs": [],
   "source": [
    "df2 = pd.read_csv('/ifs/projects/katherineb/ERVS_test/raw_exonerate_output/envs2.tsv', sep=\"\\t\", index_col=0)"
   ]
  },
  {
   "cell_type": "code",
   "execution_count": null,
   "metadata": {
    "collapsed": false
   },
   "outputs": [],
   "source": [
    "df2 = df2[((df2.Length>200) & (df2.details.str.contains(\"I\") == False))]\n"
   ]
  },
  {
   "cell_type": "code",
   "execution_count": null,
   "metadata": {
    "collapsed": false,
    "scrolled": true
   },
   "outputs": [],
   "source": [
    "df2[cnames]"
   ]
  },
  {
   "cell_type": "code",
   "execution_count": null,
   "metadata": {
    "collapsed": false
   },
   "outputs": [],
   "source": [
    "plus = smalldf[smalldf['target_start'] < smalldf['target_end']]\n",
    "minus = smalldf[smalldf['target_start'] > smalldf['target_end']]"
   ]
  },
  {
   "cell_type": "code",
   "execution_count": null,
   "metadata": {
    "collapsed": false
   },
   "outputs": [],
   "source": [
    "tempstart = minus['target_start']\n",
    "tempend = minus['target_end']"
   ]
  },
  {
   "cell_type": "code",
   "execution_count": null,
   "metadata": {
    "collapsed": false
   },
   "outputs": [],
   "source": [
    "minus = minus.drop(['target_start', 'target_end'], 1)"
   ]
  },
  {
   "cell_type": "code",
   "execution_count": null,
   "metadata": {
    "collapsed": false
   },
   "outputs": [],
   "source": [
    "minus['target_start'] = tempend\n",
    "minus['target_end'] = tempstart"
   ]
  },
  {
   "cell_type": "code",
   "execution_count": null,
   "metadata": {
    "collapsed": false
   },
   "outputs": [],
   "source": [
    "reload(PE)\n",
    "x = PE.filterExonerate(\"/ifs/projects/katherineb/ERVS_test/raw_exonerate_output/envs2_chr21.tsv\", 200)"
   ]
  },
  {
   "cell_type": "code",
   "execution_count": null,
   "metadata": {
    "collapsed": false
   },
   "outputs": [],
   "source": [
    "x['target_start'] = x['target_start'].astype('object')"
   ]
  },
  {
   "cell_type": "code",
   "execution_count": null,
   "metadata": {
    "collapsed": false
   },
   "outputs": [],
   "source": [
    "x"
   ]
  },
  {
   "cell_type": "code",
   "execution_count": null,
   "metadata": {
    "collapsed": true
   },
   "outputs": [],
   "source": []
  }
 ],
 "metadata": {
  "kernelspec": {
   "display_name": "Python 2",
   "language": "python",
   "name": "python2"
  },
  "language_info": {
   "codemirror_mode": {
    "name": "ipython",
    "version": 2
   },
   "file_extension": ".py",
   "mimetype": "text/x-python",
   "name": "python",
   "nbconvert_exporter": "python",
   "pygments_lexer": "ipython2",
   "version": "2.7.10"
  }
 },
 "nbformat": 4,
 "nbformat_minor": 0
}
